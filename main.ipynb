{
 "cells": [
  {
   "cell_type": "code",
   "execution_count": 81,
   "metadata": {},
   "outputs": [],
   "source": [
    "import PyPDF2\n",
    "import os\n",
    "import re "
   ]
  },
  {
   "cell_type": "code",
   "execution_count": 82,
   "metadata": {},
   "outputs": [],
   "source": [
    "# bookmark page + VA = pdf page\n",
    "VA = 2"
   ]
  },
  {
   "cell_type": "code",
   "execution_count": 83,
   "metadata": {},
   "outputs": [],
   "source": [
    "pdfiles = os.listdir('pdf')\n",
    "for pdfile in pdfiles:\n",
    "    pdf_path = os.path.join('pdf',pdfile)\n",
    "    pdfname, _ = os.path.splitext(pdf_path)\n",
    "    mark_path = os.path.join('mark',pdfname+'.txt')\n",
    "    output_path = os.path.join('marked_pdf',pdfile)\n",
    "\n",
    "    if not mark_path.exists():\n",
    "        continue\n",
    "\n",
    "    # 打开bookmark文件\n",
    "    with open(mark_path,'r') as f:\n",
    "        #读取文件中的每一行\n",
    "        lines = f.readlines()\n",
    "    # 去除每行结尾的换行符\n",
    "    lines = [line.strip() for line in lines if line.strip()]\n",
    "\n",
    "    chapter_pattern = r'^(第+\\d+章+\\s+\\S+)\\s+(\\d+)$'\n",
    "    part1_pattern = r'^(\\d+\\.\\d+\\s+\\S+)\\s+(\\d+)$'\n",
    "    part2_pattern = r'^(\\d+\\.\\d+\\.\\d+\\s+\\S+)\\s+(\\d+)$'\n",
    "    ## pattern is r'^(title) (page)'\n",
    "\n",
    "    # 打开PDF文件并读取\n",
    "    with open(pdf_path, 'rb') as input_file:\n",
    "        reader = PyPDF2.PdfReader(input_file)\n",
    "        # 创建PDF写入器并打开输出文件\n",
    "        writer = PyPDF2.PdfWriter()\n",
    "\n",
    "        with open(output_path, 'wb') as output_file:\n",
    "            chapter_bookmark = None\n",
    "            part1_bookmark = None\n",
    "            errors = []\n",
    "            # 将PDF页面复制到输出文件\n",
    "            for i in range(len(reader.pages)):\n",
    "                writer.add_page(reader.pages[i])\n",
    "            # 将书签添加到输出文件的目录中\n",
    "            # 匹配bookmark\n",
    "            for line in lines: \n",
    "                chapter_match = re.search(chapter_pattern, line)\n",
    "                part1_match = re.search(part1_pattern, line)\n",
    "                part2_match = re.search(part2_pattern, line)\n",
    "                \n",
    "                # 为PDF添加书签\n",
    "                if chapter_match:\n",
    "                    title, page = chapter_match.group(1) , int(chapter_match.group(2))\n",
    "                    chapter_bookmark = writer.add_outline_item(title, page+VA)\n",
    "                elif part1_match:\n",
    "                    title, page = part1_match.group(1) , int(part1_match.group(2))\n",
    "                    part1_bookmark = writer.add_outline_item(title, page+VA, parent=chapter_bookmark)\n",
    "                elif part2_match:\n",
    "                    title, page = part2_match.group(1) , int(part2_match.group(2))\n",
    "                    part2_bookmark = writer.add_outline_item(title, page+VA, parent=part1_bookmark)\n",
    "                else:\n",
    "                    errors.append(line)\n",
    "            if errors != []:\n",
    "                for error in errors:\n",
    "                    print(error)\n",
    "                raise Exception(f\"Cannot be recognized\")\n",
    "            # 将PDF写入到输出文件中\n",
    "            writer.write(output_file)\n"
   ]
  }
 ],
 "metadata": {
  "kernelspec": {
   "display_name": "study",
   "language": "python",
   "name": "python3"
  },
  "language_info": {
   "codemirror_mode": {
    "name": "ipython",
    "version": 3
   },
   "file_extension": ".py",
   "mimetype": "text/x-python",
   "name": "python",
   "nbconvert_exporter": "python",
   "pygments_lexer": "ipython3",
   "version": "3.7.13"
  },
  "orig_nbformat": 4
 },
 "nbformat": 4,
 "nbformat_minor": 2
}
